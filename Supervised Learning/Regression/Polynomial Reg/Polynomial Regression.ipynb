{
 "cells": [
  {
   "cell_type": "code",
   "execution_count": 1,
   "metadata": {},
   "outputs": [],
   "source": [
    "# Import necessary libraries\n",
    "import numpy as np\n",
    "import matplotlib.pyplot as plt\n",
    "from sklearn.linear_model import LinearRegression\n",
    "from sklearn.preprocessing import PolynomialFeatures\n"
   ]
  },
  {
   "cell_type": "code",
   "execution_count": 2,
   "metadata": {},
   "outputs": [],
   "source": [
    "# Generating synthetic non-linear data\n",
    "np.random.seed(0)\n",
    "X = 2 - 3 * np.random.normal(0, 1, 100)  # 100 samples of a single feature\n",
    "y = X - 2 * (X ** 2) + np.random.normal(-3, 3, 100)"
   ]
  },
  {
   "cell_type": "code",
   "execution_count": 3,
   "metadata": {},
   "outputs": [
    {
     "data": {
      "text/plain": [
       "array([-3.29215704,  0.79952837, -0.93621395, -4.7226796 , -3.60267397,\n",
       "        4.93183364, -0.85026525,  2.45407162,  2.30965656,  0.76820449,\n",
       "        1.56786929, -2.36282052, -0.28311318,  1.63497495,  0.6684103 ,\n",
       "        0.99897702, -2.48223722,  2.61547479,  1.0607969 ,  4.56228722,\n",
       "        9.65896945,  0.03914421, -0.5933086 ,  4.22649506, -4.80926387,\n",
       "        6.36309702,  1.86272445,  2.56155155, -2.59833764, -2.40807631,\n",
       "        1.53515772,  0.86551244,  4.66335724,  7.9423894 ,  3.04373645,\n",
       "        1.53095309, -1.69087204, -1.60713955,  3.16198045,  2.90690825,\n",
       "        5.1456589 ,  6.26005381,  7.11881057, -3.85232619,  3.52895655,\n",
       "        3.3142229 ,  5.75838608, -0.33247107,  6.84169354,  2.63822084,\n",
       "        4.68639968,  0.83929251,  3.53241541,  5.54189655,  2.08454669,\n",
       "        0.71500439,  1.80044833,  1.09258431,  3.90296628,  3.0882235 ,\n",
       "        4.01738134,  3.07865948,  4.43943885,  7.17884781,  1.46772157,\n",
       "        3.20534281,  6.89059504,  0.61165323,  4.72189509,  1.84416381,\n",
       "       -0.18727169,  1.61305127, -1.41820205,  5.70447746,  0.79297508,\n",
       "        4.05443027,  4.61239145,  3.73654899,  2.9346576 ,  1.83150397,\n",
       "        5.49544952, -0.70247946,  0.60301268,  6.60873106, -2.46475658,\n",
       "       -3.68766753, -1.53633871,  2.53977451,  5.21225786, -1.16335518,\n",
       "        3.20953084, -1.66733521,  1.37517507, -0.92991711,  0.93090081,\n",
       "       -0.1197195 ,  1.96849994, -3.35761148,  1.61926372,  0.79403191])"
      ]
     },
     "execution_count": 3,
     "metadata": {},
     "output_type": "execute_result"
    }
   ],
   "source": [
    "X"
   ]
  },
  {
   "cell_type": "code",
   "execution_count": 4,
   "metadata": {},
   "outputs": [
    {
     "data": {
      "text/plain": [
       "1"
      ]
     },
     "execution_count": 4,
     "metadata": {},
     "output_type": "execute_result"
    }
   ],
   "source": [
    "X.ndim"
   ]
  },
  {
   "cell_type": "code",
   "execution_count": 5,
   "metadata": {},
   "outputs": [
    {
     "data": {
      "text/plain": [
       "2"
      ]
     },
     "execution_count": 5,
     "metadata": {},
     "output_type": "execute_result"
    }
   ],
   "source": [
    "# Reshape X to be a 2D array (requiered by scikit-learn)\n",
    "X = X[:, np.newaxis]\n",
    "X.ndim"
   ]
  },
  {
   "cell_type": "code",
   "execution_count": 6,
   "metadata": {},
   "outputs": [
    {
     "data": {
      "text/plain": [
       "array([[-3.29215704],\n",
       "       [ 0.79952837],\n",
       "       [-0.93621395],\n",
       "       [-4.7226796 ],\n",
       "       [-3.60267397],\n",
       "       [ 4.93183364],\n",
       "       [-0.85026525],\n",
       "       [ 2.45407162],\n",
       "       [ 2.30965656],\n",
       "       [ 0.76820449],\n",
       "       [ 1.56786929],\n",
       "       [-2.36282052],\n",
       "       [-0.28311318],\n",
       "       [ 1.63497495],\n",
       "       [ 0.6684103 ],\n",
       "       [ 0.99897702],\n",
       "       [-2.48223722],\n",
       "       [ 2.61547479],\n",
       "       [ 1.0607969 ],\n",
       "       [ 4.56228722],\n",
       "       [ 9.65896945],\n",
       "       [ 0.03914421],\n",
       "       [-0.5933086 ],\n",
       "       [ 4.22649506],\n",
       "       [-4.80926387],\n",
       "       [ 6.36309702],\n",
       "       [ 1.86272445],\n",
       "       [ 2.56155155],\n",
       "       [-2.59833764],\n",
       "       [-2.40807631],\n",
       "       [ 1.53515772],\n",
       "       [ 0.86551244],\n",
       "       [ 4.66335724],\n",
       "       [ 7.9423894 ],\n",
       "       [ 3.04373645],\n",
       "       [ 1.53095309],\n",
       "       [-1.69087204],\n",
       "       [-1.60713955],\n",
       "       [ 3.16198045],\n",
       "       [ 2.90690825],\n",
       "       [ 5.1456589 ],\n",
       "       [ 6.26005381],\n",
       "       [ 7.11881057],\n",
       "       [-3.85232619],\n",
       "       [ 3.52895655],\n",
       "       [ 3.3142229 ],\n",
       "       [ 5.75838608],\n",
       "       [-0.33247107],\n",
       "       [ 6.84169354],\n",
       "       [ 2.63822084],\n",
       "       [ 4.68639968],\n",
       "       [ 0.83929251],\n",
       "       [ 3.53241541],\n",
       "       [ 5.54189655],\n",
       "       [ 2.08454669],\n",
       "       [ 0.71500439],\n",
       "       [ 1.80044833],\n",
       "       [ 1.09258431],\n",
       "       [ 3.90296628],\n",
       "       [ 3.0882235 ],\n",
       "       [ 4.01738134],\n",
       "       [ 3.07865948],\n",
       "       [ 4.43943885],\n",
       "       [ 7.17884781],\n",
       "       [ 1.46772157],\n",
       "       [ 3.20534281],\n",
       "       [ 6.89059504],\n",
       "       [ 0.61165323],\n",
       "       [ 4.72189509],\n",
       "       [ 1.84416381],\n",
       "       [-0.18727169],\n",
       "       [ 1.61305127],\n",
       "       [-1.41820205],\n",
       "       [ 5.70447746],\n",
       "       [ 0.79297508],\n",
       "       [ 4.05443027],\n",
       "       [ 4.61239145],\n",
       "       [ 3.73654899],\n",
       "       [ 2.9346576 ],\n",
       "       [ 1.83150397],\n",
       "       [ 5.49544952],\n",
       "       [-0.70247946],\n",
       "       [ 0.60301268],\n",
       "       [ 6.60873106],\n",
       "       [-2.46475658],\n",
       "       [-3.68766753],\n",
       "       [-1.53633871],\n",
       "       [ 2.53977451],\n",
       "       [ 5.21225786],\n",
       "       [-1.16335518],\n",
       "       [ 3.20953084],\n",
       "       [-1.66733521],\n",
       "       [ 1.37517507],\n",
       "       [-0.92991711],\n",
       "       [ 0.93090081],\n",
       "       [-0.1197195 ],\n",
       "       [ 1.96849994],\n",
       "       [-3.35761148],\n",
       "       [ 1.61926372],\n",
       "       [ 0.79403191]])"
      ]
     },
     "execution_count": 6,
     "metadata": {},
     "output_type": "execute_result"
    }
   ],
   "source": [
    "X"
   ]
  },
  {
   "cell_type": "code",
   "execution_count": 7,
   "metadata": {},
   "outputs": [
    {
     "data": {
      "image/png": "[encoded data removed]",
      "text/plain": [
       "<Figure size 640x480 with 1 Axes>"
      ]
     },
     "metadata": {},
     "output_type": "display_data"
    }
   ],
   "source": [
    "# Plot the original data\n",
    "plt.scatter(X, y, s=10, label='Original Data')\n",
    "plt.xlabel('X')\n",
    "plt.ylabel('y')\n",
    "plt.legend()\n",
    "plt.show()\n"
   ]
  },
  {
   "cell_type": "code",
   "execution_count": 9,
   "metadata": {},
   "outputs": [
    {
     "data": {
      "text/plain": [
       "array([[ 1.00000000e+00, -3.29215704e+00,  1.08382980e+01],\n",
       "       [ 1.00000000e+00,  7.99528375e-01,  6.39245622e-01],\n",
       "       [ 1.00000000e+00, -9.36213952e-01,  8.76496565e-01],\n",
       "       [ 1.00000000e+00, -4.72267960e+00,  2.23037026e+01],\n",
       "       [ 1.00000000e+00, -3.60267397e+00,  1.29792597e+01],\n",
       "       [ 1.00000000e+00,  4.93183364e+00,  2.43229830e+01],\n",
       "       [ 1.00000000e+00, -8.50265253e-01,  7.22951000e-01],\n",
       "       [ 1.00000000e+00,  2.45407162e+00,  6.02246754e+00],\n",
       "       [ 1.00000000e+00,  2.30965656e+00,  5.33451340e+00],\n",
       "       [ 1.00000000e+00,  7.68204494e-01,  5.90138145e-01],\n",
       "       [ 1.00000000e+00,  1.56786929e+00,  2.45821410e+00],\n",
       "       [ 1.00000000e+00, -2.36282052e+00,  5.58292081e+00],\n",
       "       [ 1.00000000e+00, -2.83113175e-01,  8.01530701e-02],\n",
       "       [ 1.00000000e+00,  1.63497495e+00,  2.67314309e+00],\n",
       "       [ 1.00000000e+00,  6.68410302e-01,  4.46772332e-01],\n",
       "       [ 1.00000000e+00,  9.98977018e-01,  9.97955082e-01],\n",
       "       [ 1.00000000e+00, -2.48223722e+00,  6.16150161e+00],\n",
       "       [ 1.00000000e+00,  2.61547479e+00,  6.84070838e+00],\n",
       "       [ 1.00000000e+00,  1.06079690e+00,  1.12529005e+00],\n",
       "       [ 1.00000000e+00,  4.56228722e+00,  2.08144647e+01],\n",
       "       [ 1.00000000e+00,  9.65896945e+00,  9.32956908e+01],\n",
       "       [ 1.00000000e+00,  3.91442137e-02,  1.53226946e-03],\n",
       "       [ 1.00000000e+00, -5.93308597e-01,  3.52015091e-01],\n",
       "       [ 1.00000000e+00,  4.22649506e+00,  1.78632605e+01],\n",
       "       [ 1.00000000e+00, -4.80926387e+00,  2.31290190e+01],\n",
       "       [ 1.00000000e+00,  6.36309702e+00,  4.04890037e+01],\n",
       "       [ 1.00000000e+00,  1.86272445e+00,  3.46974237e+00],\n",
       "       [ 1.00000000e+00,  2.56155155e+00,  6.56154634e+00],\n",
       "       [ 1.00000000e+00, -2.59833764e+00,  6.75135851e+00],\n",
       "       [ 1.00000000e+00, -2.40807631e+00,  5.79883151e+00],\n",
       "       [ 1.00000000e+00,  1.53515772e+00,  2.35670923e+00],\n",
       "       [ 1.00000000e+00,  8.65512441e-01,  7.49111786e-01],\n",
       "       [ 1.00000000e+00,  4.66335724e+00,  2.17469008e+01],\n",
       "       [ 1.00000000e+00,  7.94238940e+00,  6.30815495e+01],\n",
       "       [ 1.00000000e+00,  3.04373645e+00,  9.26433156e+00],\n",
       "       [ 1.00000000e+00,  1.53095309e+00,  2.34381737e+00],\n",
       "       [ 1.00000000e+00, -1.69087204e+00,  2.85904826e+00],\n",
       "       [ 1.00000000e+00, -1.60713955e+00,  2.58289752e+00],\n",
       "       [ 1.00000000e+00,  3.16198045e+00,  9.99812038e+00],\n",
       "       [ 1.00000000e+00,  2.90690825e+00,  8.45011558e+00],\n",
       "       [ 1.00000000e+00,  5.14565890e+00,  2.64778055e+01],\n",
       "       [ 1.00000000e+00,  6.26005381e+00,  3.91882737e+01],\n",
       "       [ 1.00000000e+00,  7.11881057e+00,  5.06774640e+01],\n",
       "       [ 1.00000000e+00, -3.85232619e+00,  1.48404170e+01],\n",
       "       [ 1.00000000e+00,  3.52895655e+00,  1.24535343e+01],\n",
       "       [ 1.00000000e+00,  3.31422290e+00,  1.09840735e+01],\n",
       "       [ 1.00000000e+00,  5.75838608e+00,  3.31590102e+01],\n",
       "       [ 1.00000000e+00, -3.32471067e-01,  1.10537011e-01],\n",
       "       [ 1.00000000e+00,  6.84169354e+00,  4.68087705e+01],\n",
       "       [ 1.00000000e+00,  2.63822084e+00,  6.96020920e+00],\n",
       "       [ 1.00000000e+00,  4.68639968e+00,  2.19623420e+01],\n",
       "       [ 1.00000000e+00,  8.39292506e-01,  7.04411911e-01],\n",
       "       [ 1.00000000e+00,  3.53241541e+00,  1.24779586e+01],\n",
       "       [ 1.00000000e+00,  5.54189655e+00,  3.07126174e+01],\n",
       "       [ 1.00000000e+00,  2.08454669e+00,  4.34533488e+00],\n",
       "       [ 1.00000000e+00,  7.15004388e-01,  5.11231275e-01],\n",
       "       [ 1.00000000e+00,  1.80044833e+00,  3.24161420e+00],\n",
       "       [ 1.00000000e+00,  1.09258431e+00,  1.19374047e+00],\n",
       "       [ 1.00000000e+00,  3.90296628e+00,  1.52331458e+01],\n",
       "       [ 1.00000000e+00,  3.08822350e+00,  9.53712437e+00],\n",
       "       [ 1.00000000e+00,  4.01738134e+00,  1.61393529e+01],\n",
       "       [ 1.00000000e+00,  3.07865948e+00,  9.47814422e+00],\n",
       "       [ 1.00000000e+00,  4.43943885e+00,  1.97086173e+01],\n",
       "       [ 1.00000000e+00,  7.17884781e+00,  5.15358558e+01],\n",
       "       [ 1.00000000e+00,  1.46772157e+00,  2.15420662e+00],\n",
       "       [ 1.00000000e+00,  3.20534281e+00,  1.02742225e+01],\n",
       "       [ 1.00000000e+00,  6.89059504e+00,  4.74803000e+01],\n",
       "       [ 1.00000000e+00,  6.11653233e-01,  3.74119678e-01],\n",
       "       [ 1.00000000e+00,  4.72189509e+00,  2.22962933e+01],\n",
       "       [ 1.00000000e+00,  1.84416381e+00,  3.40094017e+00],\n",
       "       [ 1.00000000e+00, -1.87271687e-01,  3.50706846e-02],\n",
       "       [ 1.00000000e+00,  1.61305127e+00,  2.60193439e+00],\n",
       "       [ 1.00000000e+00, -1.41820205e+00,  2.01129706e+00],\n",
       "       [ 1.00000000e+00,  5.70447746e+00,  3.25410631e+01],\n",
       "       [ 1.00000000e+00,  7.92975076e-01,  6.28809472e-01],\n",
       "       [ 1.00000000e+00,  4.05443027e+00,  1.64384048e+01],\n",
       "       [ 1.00000000e+00,  4.61239145e+00,  2.12741549e+01],\n",
       "       [ 1.00000000e+00,  3.73654899e+00,  1.39617984e+01],\n",
       "       [ 1.00000000e+00,  2.93465760e+00,  8.61221521e+00],\n",
       "       [ 1.00000000e+00,  1.83150397e+00,  3.35440680e+00],\n",
       "       [ 1.00000000e+00,  5.49544952e+00,  3.01999655e+01],\n",
       "       [ 1.00000000e+00, -7.02479461e-01,  4.93477393e-01],\n",
       "       [ 1.00000000e+00,  6.03012681e-01,  3.63624293e-01],\n",
       "       [ 1.00000000e+00,  6.60873106e+00,  4.36753262e+01],\n",
       "       [ 1.00000000e+00, -2.46475658e+00,  6.07502501e+00],\n",
       "       [ 1.00000000e+00, -3.68766753e+00,  1.35988918e+01],\n",
       "       [ 1.00000000e+00, -1.53633871e+00,  2.36033664e+00],\n",
       "       [ 1.00000000e+00,  2.53977451e+00,  6.45045455e+00],\n",
       "       [ 1.00000000e+00,  5.21225786e+00,  2.71676320e+01],\n",
       "       [ 1.00000000e+00, -1.16335518e+00,  1.35339528e+00],\n",
       "       [ 1.00000000e+00,  3.20953084e+00,  1.03010882e+01],\n",
       "       [ 1.00000000e+00, -1.66733521e+00,  2.78000671e+00],\n",
       "       [ 1.00000000e+00,  1.37517507e+00,  1.89110646e+00],\n",
       "       [ 1.00000000e+00, -9.29917109e-01,  8.64745830e-01],\n",
       "       [ 1.00000000e+00,  9.30900808e-01,  8.66576315e-01],\n",
       "       [ 1.00000000e+00, -1.19719505e-01,  1.43327598e-02],\n",
       "       [ 1.00000000e+00,  1.96849994e+00,  3.87499201e+00],\n",
       "       [ 1.00000000e+00, -3.35761148e+00,  1.12735549e+01],\n",
       "       [ 1.00000000e+00,  1.61926372e+00,  2.62201500e+00],\n",
       "       [ 1.00000000e+00,  7.94031910e-01,  6.30486674e-01]])"
      ]
     },
     "execution_count": 9,
     "metadata": {},
     "output_type": "execute_result"
    }
   ],
   "source": [
    "# Transforming the data to include polynomial features (degreee 2)\n",
    "poly = PolynomialFeatures(degree=2)\n",
    "X_poly = poly.fit_transform(X)\n",
    "X_poly\n"
   ]
  },
  {
   "cell_type": "code",
   "execution_count": 10,
   "metadata": {},
   "outputs": [
    {
     "data": {
      "text/html": [
       "<style>#sk-container-id-1 {color: black;background-color: white;}#sk-container-id-1 pre{padding: 0;}#sk-container-id-1 div.sk-toggleable {background-color: white;}#sk-container-id-1 label.sk-toggleable__label {cursor: pointer;display: block;width: 100%;margin-bottom: 0;padding: 0.3em;box-sizing: border-box;text-align: center;}#sk-container-id-1 label.sk-toggleable__label-arrow:before {content: \"▸\";float: left;margin-right: 0.25em;color: #696969;}#sk-container-id-1 label.sk-toggleable__label-arrow:hover:before {color: black;}#sk-container-id-1 div.sk-estimator:hover label.sk-toggleable__label-arrow:before {color: black;}#sk-container-id-1 div.sk-toggleable__content {max-height: 0;max-width: 0;overflow: hidden;text-align: left;background-color: #f0f8ff;}#sk-container-id-1 div.sk-toggleable__content pre {margin: 0.2em;color: black;border-radius: 0.25em;background-color: #f0f8ff;}#sk-container-id-1 input.sk-toggleable__control:checked~div.sk-toggleable__content {max-height: 200px;max-width: 100%;overflow: auto;}#sk-container-id-1 input.sk-toggleable__control:checked~label.sk-toggleable__label-arrow:before {content: \"▾\";}#sk-container-id-1 div.sk-estimator input.sk-toggleable__control:checked~label.sk-toggleable__label {background-color: #d4ebff;}#sk-container-id-1 div.sk-label input.sk-toggleable__control:checked~label.sk-toggleable__label {background-color: #d4ebff;}#sk-container-id-1 input.sk-hidden--visually {border: 0;clip: rect(1px 1px 1px 1px);clip: rect(1px, 1px, 1px, 1px);height: 1px;margin: -1px;overflow: hidden;padding: 0;position: absolute;width: 1px;}#sk-container-id-1 div.sk-estimator {font-family: monospace;background-color: #f0f8ff;border: 1px dotted black;border-radius: 0.25em;box-sizing: border-box;margin-bottom: 0.5em;}#sk-container-id-1 div.sk-estimator:hover {background-color: #d4ebff;}#sk-container-id-1 div.sk-parallel-item::after {content: \"\";width: 100%;border-bottom: 1px solid gray;flex-grow: 1;}#sk-container-id-1 div.sk-label:hover label.sk-toggleable__label {background-color: #d4ebff;}#sk-container-id-1 div.sk-serial::before {content: \"\";position: absolute;border-left: 1px solid gray;box-sizing: border-box;top: 0;bottom: 0;left: 50%;z-index: 0;}#sk-container-id-1 div.sk-serial {display: flex;flex-direction: column;align-items: center;background-color: white;padding-right: 0.2em;padding-left: 0.2em;position: relative;}#sk-container-id-1 div.sk-item {position: relative;z-index: 1;}#sk-container-id-1 div.sk-parallel {display: flex;align-items: stretch;justify-content: center;background-color: white;position: relative;}#sk-container-id-1 div.sk-item::before, #sk-container-id-1 div.sk-parallel-item::before {content: \"\";position: absolute;border-left: 1px solid gray;box-sizing: border-box;top: 0;bottom: 0;left: 50%;z-index: -1;}#sk-container-id-1 div.sk-parallel-item {display: flex;flex-direction: column;z-index: 1;position: relative;background-color: white;}#sk-container-id-1 div.sk-parallel-item:first-child::after {align-self: flex-end;width: 50%;}#sk-container-id-1 div.sk-parallel-item:last-child::after {align-self: flex-start;width: 50%;}#sk-container-id-1 div.sk-parallel-item:only-child::after {width: 0;}#sk-container-id-1 div.sk-dashed-wrapped {border: 1px dashed gray;margin: 0 0.4em 0.5em 0.4em;box-sizing: border-box;padding-bottom: 0.4em;background-color: white;}#sk-container-id-1 div.sk-label label {font-family: monospace;font-weight: bold;display: inline-block;line-height: 1.2em;}#sk-container-id-1 div.sk-label-container {text-align: center;}#sk-container-id-1 div.sk-container {/* jupyter's `normalize.less` sets `[hidden] { display: none; }` but bootstrap.min.css set `[hidden] { display: none !important; }` so we also need the `!important` here to be able to override the default hidden behavior on the sphinx rendered scikit-learn.org. See: https://github.com/scikit-learn/scikit-learn/issues/21755 */display: inline-block !important;position: relative;}#sk-container-id-1 div.sk-text-repr-fallback {display: none;}</style><div id=\"sk-container-id-1\" class=\"sk-top-container\"><div class=\"sk-text-repr-fallback\"><pre>LinearRegression()</pre><b>In a Jupyter environment, please rerun this cell to show the HTML representation or trust the notebook. <br />On GitHub, the HTML representation is unable to render, please try loading this page with nbviewer.org.</b></div><div class=\"sk-container\" hidden><div class=\"sk-item\"><div class=\"sk-estimator sk-toggleable\"><input class=\"sk-toggleable__control sk-hidden--visually\" id=\"sk-estimator-id-1\" type=\"checkbox\" checked><label for=\"sk-estimator-id-1\" class=\"sk-toggleable__label sk-toggleable__label-arrow\">LinearRegression</label><div class=\"sk-toggleable__content\"><pre>LinearRegression()</pre></div></div></div></div></div>"
      ],
      "text/plain": [
       "LinearRegression()"
      ]
     },
     "execution_count": 10,
     "metadata": {},
     "output_type": "execute_result"
    }
   ],
   "source": [
    "# Fitting a linear regression model on the transformed data\n",
    "model = LinearRegression()\n",
    "model.fit(X_poly, y)"
   ]
  },
  {
   "cell_type": "code",
   "execution_count": 11,
   "metadata": {},
   "outputs": [],
   "source": [
    "# Making predictions\n",
    "y_pred = model.predict(X_poly)"
   ]
  },
  {
   "cell_type": "code",
   "execution_count": 13,
   "metadata": {},
   "outputs": [
    {
     "data": {
      "image/png": "[encoded data removed]",
      "text/plain": [
       "<Figure size 640x480 with 1 Axes>"
      ]
     },
     "metadata": {},
     "output_type": "display_data"
    }
   ],
   "source": [
    "plt.scatter(X, y, s=10, label='Original data')\n",
    "plt.scatter(X, y_pred, color='r', label='\"Polynomial Regression') \n",
    "plt.legend()\n",
    "plt.title('Polynomial Regression Curve')\n",
    "plt.show()\n"
   ]
  },
  {
   "cell_type": "code",
   "execution_count": 14,
   "metadata": {},
   "outputs": [
    {
     "name": "stdout",
     "output_type": "stream",
     "text": [
      "Coefficients: [ 0.          0.96597113 -2.02225052]\n",
      "Intercept: -2.4148356673536284\n"
     ]
    }
   ],
   "source": [
    "# Print model coefficients\n",
    "print(\"Coefficients:\", model.coef_)\n",
    "print(\"Intercept:\", model.intercept_)"
   ]
  },
  {
   "cell_type": "code",
   "execution_count": 18,
   "metadata": {},
   "outputs": [
    {
     "name": "stdout",
     "output_type": "stream",
     "text": [
      "Degree 1: Mean Squared Error = 615.8337620812341\n",
      "Degree 2: Mean Squared Error = 9.99093434965916\n",
      "Degree 3: Mean Squared Error = 11.502758210284568\n",
      "Degree 4: Mean Squared Error = 10.344848227025414\n",
      "Degree 5: Mean Squared Error = 16.262369293097702\n"
     ]
    }
   ],
   "source": [
    "# Cross-Validation to Select the Best Degree\n",
    "from sklearn.model_selection import cross_val_score\n",
    "\n",
    "# Try different degrees of polynomial \n",
    "for degree in [1, 2, 3, 4, 5]:\n",
    "    poly = PolynomialFeatures(degree=degree)\n",
    "    X_poly = poly.fit_transform(X)\n",
    "    \n",
    "    # Perform 5-fold cross-validation\n",
    "    scores = cross_val_score(model, X_poly, y, cv=5, scoring='neg_mean_squared_error')\n",
    "    print(f\"Degree {degree}: Mean Squared Error = {-scores.mean()}\")\n",
    "\n"
   ]
  },
  {
   "cell_type": "code",
   "execution_count": null,
   "metadata": {},
   "outputs": [],
   "source": []
  }
 ],
 "metadata": {
  "kernelspec": {
   "display_name": "base",
   "language": "python",
   "name": "python3"
  },
  "language_info": {
   "codemirror_mode": {
    "name": "ipython",
    "version": 3
   },
   "file_extension": ".py",
   "mimetype": "text/x-python",
   "name": "python",
   "nbconvert_exporter": "python",
   "pygments_lexer": "ipython3",
   "version": "3.11.7"
  }
 },
 "nbformat": 4,
 "nbformat_minor": 2
}
